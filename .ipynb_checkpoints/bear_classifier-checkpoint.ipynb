{
 "cells": [
  {
   "cell_type": "code",
   "execution_count": 1,
   "id": "439da580",
   "metadata": {
    "ExecuteTime": {
     "end_time": "2022-11-06T21:05:35.112973Z",
     "start_time": "2022-11-06T21:05:14.598536Z"
    }
   },
   "outputs": [],
   "source": [
    "# ! pip install -Uqq fastbook\n",
    "import fastbook\n",
    "fastbook.setup_book()"
   ]
  },
  {
   "cell_type": "code",
   "execution_count": 2,
   "id": "76313e19",
   "metadata": {
    "ExecuteTime": {
     "end_time": "2022-11-06T21:05:37.227449Z",
     "start_time": "2022-11-06T21:05:37.160557Z"
    }
   },
   "outputs": [],
   "source": [
    "from fastbook import *\n",
    "from fastai.vision.widgets import *"
   ]
  },
  {
   "cell_type": "code",
   "execution_count": 3,
   "id": "8e395a35",
   "metadata": {
    "ExecuteTime": {
     "end_time": "2022-11-06T21:05:38.423301Z",
     "start_time": "2022-11-06T21:05:38.359247Z"
    }
   },
   "outputs": [],
   "source": [
    "path = Path()\n",
    "path.ls(file_exts='.pkl')\n",
    "learn_inf = load_learner(path/'export.pkl')"
   ]
  },
  {
   "cell_type": "code",
   "execution_count": 4,
   "id": "2cb0afdd",
   "metadata": {
    "ExecuteTime": {
     "end_time": "2022-11-06T21:05:41.792191Z",
     "start_time": "2022-11-06T21:05:41.758032Z"
    }
   },
   "outputs": [],
   "source": [
    "btn_upload = widgets.FileUpload()"
   ]
  },
  {
   "cell_type": "code",
   "execution_count": 5,
   "id": "8acc21cc",
   "metadata": {
    "ExecuteTime": {
     "end_time": "2022-11-06T21:05:42.600933Z",
     "start_time": "2022-11-06T21:05:42.566555Z"
    }
   },
   "outputs": [],
   "source": [
    "lbl_pred = widgets.Label()"
   ]
  },
  {
   "cell_type": "code",
   "execution_count": 6,
   "id": "fb4b7517",
   "metadata": {
    "ExecuteTime": {
     "end_time": "2022-11-06T21:05:43.224376Z",
     "start_time": "2022-11-06T21:05:43.201035Z"
    }
   },
   "outputs": [],
   "source": [
    "out_pl = widgets.Output()"
   ]
  },
  {
   "cell_type": "code",
   "execution_count": 7,
   "id": "e394fb76",
   "metadata": {
    "ExecuteTime": {
     "end_time": "2022-11-06T21:05:43.766729Z",
     "start_time": "2022-11-06T21:05:43.742422Z"
    }
   },
   "outputs": [],
   "source": [
    "btn_run = widgets.Button(description='Classify')"
   ]
  },
  {
   "cell_type": "code",
   "execution_count": 8,
   "id": "1c47407d",
   "metadata": {
    "ExecuteTime": {
     "end_time": "2022-11-06T21:05:44.325547Z",
     "start_time": "2022-11-06T21:05:44.306493Z"
    }
   },
   "outputs": [],
   "source": [
    "def on_click_classify(change):\n",
    "    img = PILImage.create(btn_upload.data[-1])\n",
    "    out_pl.clear_output()\n",
    "    with out_pl: display(img.to_thumb(128,128))\n",
    "    pred,pred_idx,probs = learn_inf.predict(img)\n",
    "    lbl_pred.value = f'Prediction: {pred}; Probability: {probs[pred_idx]:.04f}'\n",
    "\n",
    "btn_run.on_click(on_click_classify)"
   ]
  },
  {
   "cell_type": "code",
   "execution_count": 9,
   "id": "af513333",
   "metadata": {
    "ExecuteTime": {
     "end_time": "2022-11-06T21:05:45.036739Z",
     "start_time": "2022-11-06T21:05:44.983886Z"
    }
   },
   "outputs": [
    {
     "data": {
      "application/vnd.jupyter.widget-view+json": {
       "model_id": "93c98790b1294e399d71c4d3ad1d3461",
       "version_major": 2,
       "version_minor": 0
      },
      "text/plain": [
       "VBox(children=(Label(value='choose your bear'), FileUpload(value={}, description='Upload'), Button(description…"
      ]
     },
     "metadata": {},
     "output_type": "display_data"
    }
   ],
   "source": [
    "VBox([ widgets.Label(\"choose your bear\"), btn_upload, btn_run, out_pl, lbl_pred ])"
   ]
  }
 ],
 "metadata": {
  "kernelspec": {
   "display_name": "Python 3 (ipykernel)",
   "language": "python",
   "name": "python3"
  },
  "language_info": {
   "codemirror_mode": {
    "name": "ipython",
    "version": 3
   },
   "file_extension": ".py",
   "mimetype": "text/x-python",
   "name": "python",
   "nbconvert_exporter": "python",
   "pygments_lexer": "ipython3",
   "version": "3.10.6"
  },
  "latex_envs": {
   "LaTeX_envs_menu_present": true,
   "autoclose": false,
   "autocomplete": true,
   "bibliofile": "biblio.bib",
   "cite_by": "apalike",
   "current_citInitial": 1,
   "eqLabelWithNumbers": true,
   "eqNumInitial": 1,
   "hotkeys": {
    "equation": "Ctrl-E",
    "itemize": "Ctrl-I"
   },
   "labels_anchors": false,
   "latex_user_defs": false,
   "report_style_numbering": false,
   "user_envs_cfg": false
  }
 },
 "nbformat": 4,
 "nbformat_minor": 5
}
