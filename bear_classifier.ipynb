{
 "cells": [
  {
   "cell_type": "code",
   "execution_count": 8,
   "id": "439da580",
   "metadata": {
    "ExecuteTime": {
     "end_time": "2022-11-06T21:21:25.495079Z",
     "start_time": "2022-11-06T21:21:25.481065Z"
    }
   },
   "outputs": [],
   "source": [
    "# ! pip install -Uqq fastbook\n",
    "import fastbook\n",
    "fastbook.setup_book()"
   ]
  },
  {
   "cell_type": "code",
   "execution_count": 9,
   "id": "76313e19",
   "metadata": {
    "ExecuteTime": {
     "end_time": "2022-11-06T21:21:25.510077Z",
     "start_time": "2022-11-06T21:21:25.500044Z"
    }
   },
   "outputs": [],
   "source": [
    "from fastbook import *\n",
    "from fastai.vision.widgets import *"
   ]
  },
  {
   "cell_type": "code",
   "execution_count": 10,
   "id": "b00f5d5a",
   "metadata": {
    "ExecuteTime": {
     "end_time": "2022-11-06T21:21:31.968988Z",
     "start_time": "2022-11-06T21:21:25.513182Z"
    },
    "scrolled": true
   },
   "outputs": [
    {
     "name": "stdout",
     "output_type": "stream",
     "text": [
      "Requirement already satisfied: voila in c:\\users\\carte\\anaconda3\\envs\\fastbook\\lib\\site-packages (0.4.0)\n",
      "Requirement already satisfied: websockets>=9.0 in c:\\users\\carte\\anaconda3\\envs\\fastbook\\lib\\site-packages (from voila) (10.4)\n",
      "Requirement already satisfied: nbconvert<8,>=6.4.5 in c:\\users\\carte\\anaconda3\\envs\\fastbook\\lib\\site-packages (from voila) (7.2.3)\n",
      "Requirement already satisfied: traitlets<6,>=5.0.3 in c:\\users\\carte\\anaconda3\\envs\\fastbook\\lib\\site-packages (from voila) (5.5.0)\n",
      "Requirement already satisfied: jupyter-client<=7.4.1,>=6.1.3 in c:\\users\\carte\\anaconda3\\envs\\fastbook\\lib\\site-packages (from voila) (7.4.1)\n",
      "Requirement already satisfied: jupyterlab-server<3,>=2.3.0 in c:\\users\\carte\\anaconda3\\envs\\fastbook\\lib\\site-packages (from voila) (2.16.2)\n",
      "Requirement already satisfied: jupyter-server<2.0.0,>=1.18 in c:\\users\\carte\\anaconda3\\envs\\fastbook\\lib\\site-packages (from voila) (1.21.0)\n",
      "Requirement already satisfied: jupyter-core>=4.11.0 in c:\\users\\carte\\anaconda3\\envs\\fastbook\\lib\\site-packages (from voila) (4.11.2)\n",
      "Requirement already satisfied: nbclient<0.8,>=0.4.0 in c:\\users\\carte\\anaconda3\\envs\\fastbook\\lib\\site-packages (from voila) (0.5.13)\n",
      "Requirement already satisfied: pyzmq>=23.0 in c:\\users\\carte\\anaconda3\\envs\\fastbook\\lib\\site-packages (from jupyter-client<=7.4.1,>=6.1.3->voila) (24.0.1)\n",
      "Requirement already satisfied: entrypoints in c:\\users\\carte\\anaconda3\\envs\\fastbook\\lib\\site-packages (from jupyter-client<=7.4.1,>=6.1.3->voila) (0.4)\n",
      "Requirement already satisfied: nest-asyncio>=1.5.4 in c:\\users\\carte\\anaconda3\\envs\\fastbook\\lib\\site-packages (from jupyter-client<=7.4.1,>=6.1.3->voila) (1.5.6)\n",
      "Requirement already satisfied: tornado>=6.2 in c:\\users\\carte\\anaconda3\\envs\\fastbook\\lib\\site-packages (from jupyter-client<=7.4.1,>=6.1.3->voila) (6.2)\n",
      "Requirement already satisfied: python-dateutil>=2.8.2 in c:\\users\\carte\\anaconda3\\envs\\fastbook\\lib\\site-packages (from jupyter-client<=7.4.1,>=6.1.3->voila) (2.8.2)\n",
      "Requirement already satisfied: pywin32>=1.0 in c:\\users\\carte\\anaconda3\\envs\\fastbook\\lib\\site-packages (from jupyter-core>=4.11.0->voila) (305)\n",
      "Requirement already satisfied: packaging in c:\\users\\carte\\anaconda3\\envs\\fastbook\\lib\\site-packages (from jupyter-server<2.0.0,>=1.18->voila) (21.3)\n",
      "Requirement already satisfied: jinja2 in c:\\users\\carte\\anaconda3\\envs\\fastbook\\lib\\site-packages (from jupyter-server<2.0.0,>=1.18->voila) (3.1.2)\n",
      "Requirement already satisfied: terminado>=0.8.3 in c:\\users\\carte\\anaconda3\\envs\\fastbook\\lib\\site-packages (from jupyter-server<2.0.0,>=1.18->voila) (0.13.1)\n",
      "Requirement already satisfied: Send2Trash in c:\\users\\carte\\anaconda3\\envs\\fastbook\\lib\\site-packages (from jupyter-server<2.0.0,>=1.18->voila) (1.8.0)\n",
      "Requirement already satisfied: anyio<4,>=3.1.0 in c:\\users\\carte\\anaconda3\\envs\\fastbook\\lib\\site-packages (from jupyter-server<2.0.0,>=1.18->voila) (3.6.2)\n",
      "Requirement already satisfied: nbformat>=5.2.0 in c:\\users\\carte\\anaconda3\\envs\\fastbook\\lib\\site-packages (from jupyter-server<2.0.0,>=1.18->voila) (5.5.0)\n",
      "Requirement already satisfied: prometheus-client in c:\\users\\carte\\anaconda3\\envs\\fastbook\\lib\\site-packages (from jupyter-server<2.0.0,>=1.18->voila) (0.14.1)\n",
      "Requirement already satisfied: argon2-cffi in c:\\users\\carte\\anaconda3\\envs\\fastbook\\lib\\site-packages (from jupyter-server<2.0.0,>=1.18->voila) (21.3.0)\n",
      "Requirement already satisfied: pywinpty in c:\\users\\carte\\anaconda3\\envs\\fastbook\\lib\\site-packages (from jupyter-server<2.0.0,>=1.18->voila) (2.0.2)\n",
      "Requirement already satisfied: websocket-client in c:\\users\\carte\\anaconda3\\envs\\fastbook\\lib\\site-packages (from jupyter-server<2.0.0,>=1.18->voila) (1.4.2)\n",
      "Requirement already satisfied: babel in c:\\users\\carte\\anaconda3\\envs\\fastbook\\lib\\site-packages (from jupyterlab-server<3,>=2.3.0->voila) (2.11.0)\n",
      "Requirement already satisfied: json5 in c:\\users\\carte\\anaconda3\\envs\\fastbook\\lib\\site-packages (from jupyterlab-server<3,>=2.3.0->voila) (0.9.10)\n",
      "Requirement already satisfied: requests in c:\\users\\carte\\anaconda3\\envs\\fastbook\\lib\\site-packages (from jupyterlab-server<3,>=2.3.0->voila) (2.28.1)\n",
      "Requirement already satisfied: jsonschema>=3.0.1 in c:\\users\\carte\\anaconda3\\envs\\fastbook\\lib\\site-packages (from jupyterlab-server<3,>=2.3.0->voila) (4.16.0)\n",
      "Requirement already satisfied: bleach in c:\\users\\carte\\anaconda3\\envs\\fastbook\\lib\\site-packages (from nbconvert<8,>=6.4.5->voila) (4.1.0)\n",
      "Requirement already satisfied: tinycss2 in c:\\users\\carte\\anaconda3\\envs\\fastbook\\lib\\site-packages (from nbconvert<8,>=6.4.5->voila) (1.2.1)\n",
      "Requirement already satisfied: pygments>=2.4.1 in c:\\users\\carte\\anaconda3\\envs\\fastbook\\lib\\site-packages (from nbconvert<8,>=6.4.5->voila) (2.13.0)\n",
      "Requirement already satisfied: beautifulsoup4 in c:\\users\\carte\\anaconda3\\envs\\fastbook\\lib\\site-packages (from nbconvert<8,>=6.4.5->voila) (4.11.1)\n",
      "Requirement already satisfied: pandocfilters>=1.4.1 in c:\\users\\carte\\anaconda3\\envs\\fastbook\\lib\\site-packages (from nbconvert<8,>=6.4.5->voila) (1.5.0)\n",
      "Requirement already satisfied: jupyterlab-pygments in c:\\users\\carte\\anaconda3\\envs\\fastbook\\lib\\site-packages (from nbconvert<8,>=6.4.5->voila) (0.1.2)\n",
      "Requirement already satisfied: defusedxml in c:\\users\\carte\\anaconda3\\envs\\fastbook\\lib\\site-packages (from nbconvert<8,>=6.4.5->voila) (0.7.1)\n",
      "Requirement already satisfied: markupsafe>=2.0 in c:\\users\\carte\\anaconda3\\envs\\fastbook\\lib\\site-packages (from nbconvert<8,>=6.4.5->voila) (2.1.1)\n",
      "Requirement already satisfied: mistune<3,>=2.0.3 in c:\\users\\carte\\anaconda3\\envs\\fastbook\\lib\\site-packages (from nbconvert<8,>=6.4.5->voila) (2.0.4)\n",
      "Requirement already satisfied: sniffio>=1.1 in c:\\users\\carte\\anaconda3\\envs\\fastbook\\lib\\site-packages (from anyio<4,>=3.1.0->jupyter-server<2.0.0,>=1.18->voila) (1.3.0)\n",
      "Requirement already satisfied: idna>=2.8 in c:\\users\\carte\\anaconda3\\envs\\fastbook\\lib\\site-packages (from anyio<4,>=3.1.0->jupyter-server<2.0.0,>=1.18->voila) (3.4)\n",
      "Requirement already satisfied: pyrsistent!=0.17.0,!=0.17.1,!=0.17.2,>=0.14.0 in c:\\users\\carte\\anaconda3\\envs\\fastbook\\lib\\site-packages (from jsonschema>=3.0.1->jupyterlab-server<3,>=2.3.0->voila) (0.18.0)\n",
      "Requirement already satisfied: attrs>=17.4.0 in c:\\users\\carte\\anaconda3\\envs\\fastbook\\lib\\site-packages (from jsonschema>=3.0.1->jupyterlab-server<3,>=2.3.0->voila) (21.4.0)\n",
      "Requirement already satisfied: fastjsonschema in c:\\users\\carte\\anaconda3\\envs\\fastbook\\lib\\site-packages (from nbformat>=5.2.0->jupyter-server<2.0.0,>=1.18->voila) (2.16.2)\n",
      "Requirement already satisfied: six>=1.5 in c:\\users\\carte\\anaconda3\\envs\\fastbook\\lib\\site-packages (from python-dateutil>=2.8.2->jupyter-client<=7.4.1,>=6.1.3->voila) (1.16.0)\n",
      "Requirement already satisfied: argon2-cffi-bindings in c:\\users\\carte\\anaconda3\\envs\\fastbook\\lib\\site-packages (from argon2-cffi->jupyter-server<2.0.0,>=1.18->voila) (21.2.0)\n",
      "Requirement already satisfied: pytz>=2015.7 in c:\\users\\carte\\anaconda3\\envs\\fastbook\\lib\\site-packages (from babel->jupyterlab-server<3,>=2.3.0->voila) (2022.6)\n",
      "Requirement already satisfied: soupsieve>1.2 in c:\\users\\carte\\anaconda3\\envs\\fastbook\\lib\\site-packages (from beautifulsoup4->nbconvert<8,>=6.4.5->voila) (2.3.2.post1)\n",
      "Requirement already satisfied: webencodings in c:\\users\\carte\\anaconda3\\envs\\fastbook\\lib\\site-packages (from bleach->nbconvert<8,>=6.4.5->voila) (0.5.1)\n",
      "Requirement already satisfied: pyparsing!=3.0.5,>=2.0.2 in c:\\users\\carte\\anaconda3\\envs\\fastbook\\lib\\site-packages (from packaging->jupyter-server<2.0.0,>=1.18->voila) (3.0.9)\n",
      "Requirement already satisfied: charset-normalizer<3,>=2 in c:\\users\\carte\\anaconda3\\envs\\fastbook\\lib\\site-packages (from requests->jupyterlab-server<3,>=2.3.0->voila) (2.0.4)\n",
      "Requirement already satisfied: urllib3<1.27,>=1.21.1 in c:\\users\\carte\\anaconda3\\envs\\fastbook\\lib\\site-packages (from requests->jupyterlab-server<3,>=2.3.0->voila) (1.26.12)\n",
      "Requirement already satisfied: certifi>=2017.4.17 in c:\\users\\carte\\anaconda3\\envs\\fastbook\\lib\\site-packages (from requests->jupyterlab-server<3,>=2.3.0->voila) (2022.9.24)\n",
      "Requirement already satisfied: cffi>=1.0.1 in c:\\users\\carte\\anaconda3\\envs\\fastbook\\lib\\site-packages (from argon2-cffi-bindings->argon2-cffi->jupyter-server<2.0.0,>=1.18->voila) (1.15.1)\n",
      "Requirement already satisfied: pycparser in c:\\users\\carte\\anaconda3\\envs\\fastbook\\lib\\site-packages (from cffi>=1.0.1->argon2-cffi-bindings->argon2-cffi->jupyter-server<2.0.0,>=1.18->voila) (2.21)\n"
     ]
    },
    {
     "name": "stderr",
     "output_type": "stream",
     "text": [
      "Enabling: voila\n",
      "- Writing config: C:\\Users\\carte\\anaconda3\\envs\\fastbook\\etc\\jupyter\n",
      "    - Validating...\n",
      "      voila 0.4.0 ok\n"
     ]
    }
   ],
   "source": [
    "# !pip install voila\n",
    "# !jupyter serverextension enable voila --sys-prefix"
   ]
  },
  {
   "cell_type": "code",
   "execution_count": 11,
   "id": "8e395a35",
   "metadata": {
    "ExecuteTime": {
     "end_time": "2022-11-06T21:21:32.046464Z",
     "start_time": "2022-11-06T21:21:31.974913Z"
    }
   },
   "outputs": [],
   "source": [
    "path = Path()\n",
    "path.ls(file_exts='.pkl')\n",
    "learn_inf = load_learner(path/'export.pkl')"
   ]
  },
  {
   "cell_type": "code",
   "execution_count": 12,
   "id": "2cb0afdd",
   "metadata": {
    "ExecuteTime": {
     "end_time": "2022-11-06T21:21:32.077107Z",
     "start_time": "2022-11-06T21:21:32.048457Z"
    }
   },
   "outputs": [
    {
     "data": {
      "application/vnd.jupyter.widget-view+json": {
       "model_id": "e9516ff52f4043c5b2179394d6f06883",
       "version_major": 2,
       "version_minor": 0
      },
      "text/plain": [
       "FileUpload(value={}, description='Upload')"
      ]
     },
     "metadata": {},
     "output_type": "display_data"
    }
   ],
   "source": [
    "btn_upload = widgets.FileUpload()\n",
    "display(btn_upload)"
   ]
  },
  {
   "cell_type": "code",
   "execution_count": 13,
   "id": "8acc21cc",
   "metadata": {
    "ExecuteTime": {
     "end_time": "2022-11-06T21:21:32.107712Z",
     "start_time": "2022-11-06T21:21:32.079528Z"
    }
   },
   "outputs": [],
   "source": [
    "lbl_pred = widgets.Label()"
   ]
  },
  {
   "cell_type": "code",
   "execution_count": 14,
   "id": "fb4b7517",
   "metadata": {
    "ExecuteTime": {
     "end_time": "2022-11-06T21:21:32.123533Z",
     "start_time": "2022-11-06T21:21:32.112426Z"
    }
   },
   "outputs": [],
   "source": [
    "out_pl = widgets.Output()"
   ]
  },
  {
   "cell_type": "code",
   "execution_count": 15,
   "id": "e394fb76",
   "metadata": {
    "ExecuteTime": {
     "end_time": "2022-11-06T21:21:32.153965Z",
     "start_time": "2022-11-06T21:21:32.127864Z"
    }
   },
   "outputs": [],
   "source": [
    "btn_run = widgets.Button(description='Classify')"
   ]
  },
  {
   "cell_type": "code",
   "execution_count": 16,
   "id": "1c47407d",
   "metadata": {
    "ExecuteTime": {
     "end_time": "2022-11-06T21:21:32.169590Z",
     "start_time": "2022-11-06T21:21:32.154967Z"
    }
   },
   "outputs": [],
   "source": [
    "def on_click_classify(change):\n",
    "    img = PILImage.create(btn_upload.data[-1])\n",
    "    out_pl.clear_output()\n",
    "    with out_pl: display(img.to_thumb(128,128))\n",
    "    pred,pred_idx,probs = learn_inf.predict(img)\n",
    "    lbl_pred.value = f'Prediction: {pred}; Probability: {probs[pred_idx]:.04f}'\n",
    "\n",
    "btn_run.on_click(on_click_classify)"
   ]
  },
  {
   "cell_type": "code",
   "execution_count": 17,
   "id": "af513333",
   "metadata": {
    "ExecuteTime": {
     "end_time": "2022-11-06T21:21:32.185188Z",
     "start_time": "2022-11-06T21:21:32.176045Z"
    }
   },
   "outputs": [],
   "source": [
    "# VBox([ widgets.Label(\"choose your bear\"), btn_upload, btn_run, out_pl, lbl_pred ])"
   ]
  }
 ],
 "metadata": {
  "kernelspec": {
   "display_name": "Python 3 (ipykernel)",
   "language": "python",
   "name": "python3"
  },
  "language_info": {
   "codemirror_mode": {
    "name": "ipython",
    "version": 3
   },
   "file_extension": ".py",
   "mimetype": "text/x-python",
   "name": "python",
   "nbconvert_exporter": "python",
   "pygments_lexer": "ipython3",
   "version": "3.10.6"
  },
  "latex_envs": {
   "LaTeX_envs_menu_present": true,
   "autoclose": false,
   "autocomplete": true,
   "bibliofile": "biblio.bib",
   "cite_by": "apalike",
   "current_citInitial": 1,
   "eqLabelWithNumbers": true,
   "eqNumInitial": 1,
   "hotkeys": {
    "equation": "Ctrl-E",
    "itemize": "Ctrl-I"
   },
   "labels_anchors": false,
   "latex_user_defs": false,
   "report_style_numbering": false,
   "user_envs_cfg": false
  }
 },
 "nbformat": 4,
 "nbformat_minor": 5
}
